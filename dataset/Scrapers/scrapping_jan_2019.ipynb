{
  "nbformat": 4,
  "nbformat_minor": 0,
  "metadata": {
    "colab": {
      "name": "Untitled16.ipynb",
      "version": "0.3.2",
      "provenance": []
    },
    "kernelspec": {
      "name": "python3",
      "display_name": "Python 3"
    },
    "accelerator": "GPU"
  },
  "cells": [
    {
      "metadata": {
        "id": "N3uKhIX_iiUp",
        "colab_type": "code",
        "colab": {}
      },
      "cell_type": "code",
      "source": [
        "import requests\n",
        "import pandas as pd\n",
        "import json \n",
        "\n",
        "url = ('https://api.nytimes.com/svc/archive/v1/2019/1.json?api-key=8v5E1SnR6KPA9yaQ86WCcPkgNSwMjSG1')\n",
        "\n",
        "response = requests.get(url)\n",
        "\n",
        "x = response.json()\n",
        "\n",
        "data_df1 = pd.read_json(json.dumps(x))"
      ],
      "execution_count": 0,
      "outputs": []
    },
    {
      "metadata": {
        "id": "mi21NCLD6XwW",
        "colab_type": "code",
        "colab": {}
      },
      "cell_type": "code",
      "source": [
        "import re\n",
        "from bs4 import BeautifulSoup"
      ],
      "execution_count": 0,
      "outputs": []
    },
    {
      "metadata": {
        "id": "AUIoAg7-jsQf",
        "colab_type": "code",
        "colab": {
          "base_uri": "https://localhost:8080/",
          "height": 34
        },
        "outputId": "bb2c95c4-444f-45f9-bce9-95f394305239"
      },
      "cell_type": "code",
      "source": [
        "print(len(response.content))"
      ],
      "execution_count": 4,
      "outputs": [
        {
          "output_type": "stream",
          "text": [
            "21724166\n"
          ],
          "name": "stdout"
        }
      ]
    },
    {
      "metadata": {
        "id": "wdG3rRlci5vj",
        "colab_type": "code",
        "colab": {
          "base_uri": "https://localhost:8080/",
          "height": 111
        },
        "outputId": "138239d3-281b-4383-8cad-9a5ac954f103"
      },
      "cell_type": "code",
      "source": [
        "data_df1"
      ],
      "execution_count": 5,
      "outputs": [
        {
          "output_type": "execute_result",
          "data": {
            "text/html": [
              "<div>\n",
              "<style scoped>\n",
              "    .dataframe tbody tr th:only-of-type {\n",
              "        vertical-align: middle;\n",
              "    }\n",
              "\n",
              "    .dataframe tbody tr th {\n",
              "        vertical-align: top;\n",
              "    }\n",
              "\n",
              "    .dataframe thead th {\n",
              "        text-align: right;\n",
              "    }\n",
              "</style>\n",
              "<table border=\"1\" class=\"dataframe\">\n",
              "  <thead>\n",
              "    <tr style=\"text-align: right;\">\n",
              "      <th></th>\n",
              "      <th>copyright</th>\n",
              "      <th>response</th>\n",
              "    </tr>\n",
              "  </thead>\n",
              "  <tbody>\n",
              "    <tr>\n",
              "      <th>docs</th>\n",
              "      <td>Copyright (c) 2019 The New York Times Company....</td>\n",
              "      <td>[{'web_url': 'https://www.nytimes.com/2019/01/...</td>\n",
              "    </tr>\n",
              "    <tr>\n",
              "      <th>meta</th>\n",
              "      <td>Copyright (c) 2019 The New York Times Company....</td>\n",
              "      <td>{'hits': 6977}</td>\n",
              "    </tr>\n",
              "  </tbody>\n",
              "</table>\n",
              "</div>"
            ],
            "text/plain": [
              "                                              copyright  \\\n",
              "docs  Copyright (c) 2019 The New York Times Company....   \n",
              "meta  Copyright (c) 2019 The New York Times Company....   \n",
              "\n",
              "                                               response  \n",
              "docs  [{'web_url': 'https://www.nytimes.com/2019/01/...  \n",
              "meta                                     {'hits': 6977}  "
            ]
          },
          "metadata": {
            "tags": []
          },
          "execution_count": 5
        }
      ]
    },
    {
      "metadata": {
        "id": "6ZU4IELEi8RB",
        "colab_type": "code",
        "colab": {}
      },
      "cell_type": "code",
      "source": [
        "y=data_df1['response']"
      ],
      "execution_count": 0,
      "outputs": []
    },
    {
      "metadata": {
        "id": "hD8hQUPAi-jD",
        "colab_type": "code",
        "colab": {}
      },
      "cell_type": "code",
      "source": [
        "val1=[]\n",
        "for i in range(6000):\n",
        "  val1.append(y['docs'][i])"
      ],
      "execution_count": 0,
      "outputs": []
    },
    {
      "metadata": {
        "id": "8lEkLbFmjGVz",
        "colab_type": "code",
        "colab": {}
      },
      "cell_type": "code",
      "source": [
        "list1 = ['World','U.S.','Technology','Business','Your Money']"
      ],
      "execution_count": 0,
      "outputs": []
    },
    {
      "metadata": {
        "id": "J1gzkm3_sgg0",
        "colab_type": "code",
        "colab": {}
      },
      "cell_type": "code",
      "source": [
        "list2 = [d for d in val1 if d['section_name'] in list1]"
      ],
      "execution_count": 0,
      "outputs": []
    },
    {
      "metadata": {
        "id": "nb5gkuQdvecE",
        "colab_type": "code",
        "colab": {
          "base_uri": "https://localhost:8080/",
          "height": 34
        },
        "outputId": "b8ca6307-b741-462c-daae-7dc3dcc8dadd"
      },
      "cell_type": "code",
      "source": [
        "print(len(list2))"
      ],
      "execution_count": 10,
      "outputs": [
        {
          "output_type": "stream",
          "text": [
            "1883\n"
          ],
          "name": "stdout"
        }
      ]
    },
    {
      "metadata": {
        "id": "nO3T4aNCsl27",
        "colab_type": "code",
        "colab": {}
      },
      "cell_type": "code",
      "source": [
        "df1 = pd.DataFrame(list2)\n"
      ],
      "execution_count": 0,
      "outputs": []
    },
    {
      "metadata": {
        "id": "GfSYQDUrtFe1",
        "colab_type": "code",
        "colab": {}
      },
      "cell_type": "code",
      "source": [
        "df1['author'] = [d.get('original') for d in df1['byline']]   #extracted the author name\n",
        "df1['author'].replace(regex=True,inplace=True,to_replace=r'By',value=r'')   #repaced the 'By' from column values\n",
        "df1['headline'] = [d.get('main') for d in df1['headline']]   #cleaned the headline column\n"
      ],
      "execution_count": 0,
      "outputs": []
    },
    {
      "metadata": {
        "id": "KaLLxlDWtYLG",
        "colab_type": "code",
        "colab": {
          "base_uri": "https://localhost:8080/",
          "height": 693
        },
        "outputId": "7a3d504b-9357-4257-cad2-83a6e9813ed8"
      },
      "cell_type": "code",
      "source": [
        "df1.head(5)"
      ],
      "execution_count": 78,
      "outputs": [
        {
          "output_type": "execute_result",
          "data": {
            "text/html": [
              "<div>\n",
              "<style scoped>\n",
              "    .dataframe tbody tr th:only-of-type {\n",
              "        vertical-align: middle;\n",
              "    }\n",
              "\n",
              "    .dataframe tbody tr th {\n",
              "        vertical-align: top;\n",
              "    }\n",
              "\n",
              "    .dataframe thead th {\n",
              "        text-align: right;\n",
              "    }\n",
              "</style>\n",
              "<table border=\"1\" class=\"dataframe\">\n",
              "  <thead>\n",
              "    <tr style=\"text-align: right;\">\n",
              "      <th></th>\n",
              "      <th>_id</th>\n",
              "      <th>blog</th>\n",
              "      <th>byline</th>\n",
              "      <th>document_type</th>\n",
              "      <th>headline</th>\n",
              "      <th>keywords</th>\n",
              "      <th>lead_paragraph</th>\n",
              "      <th>multimedia</th>\n",
              "      <th>news_desk</th>\n",
              "      <th>print_page</th>\n",
              "      <th>...</th>\n",
              "      <th>score</th>\n",
              "      <th>section_name</th>\n",
              "      <th>snippet</th>\n",
              "      <th>source</th>\n",
              "      <th>subsectoinName</th>\n",
              "      <th>type_of_material</th>\n",
              "      <th>uri</th>\n",
              "      <th>web_url</th>\n",
              "      <th>word_count</th>\n",
              "      <th>author</th>\n",
              "    </tr>\n",
              "  </thead>\n",
              "  <tbody>\n",
              "    <tr>\n",
              "      <th>0</th>\n",
              "      <td>5c2d38833a125f5075c02974</td>\n",
              "      <td>[]</td>\n",
              "      <td>{'original': 'By CHRISTINA ANDERSON', 'person'...</td>\n",
              "      <td>article</td>\n",
              "      <td>Where Doulas Calm Nerves and Bridge Cultures D...</td>\n",
              "      <td>[{'name': 'glocations', 'value': 'Sweden', 'ra...</td>\n",
              "      <td>In Sweden, midwives deliver babies. But doula ...</td>\n",
              "      <td>[{'rank': 0, 'subtype': 'xlarge', 'caption': N...</td>\n",
              "      <td>Foreign</td>\n",
              "      <td>6</td>\n",
              "      <td>...</td>\n",
              "      <td>0</td>\n",
              "      <td>World</td>\n",
              "      <td>In Sweden, midwives deliver babies. But doula ...</td>\n",
              "      <td>The New York Times</td>\n",
              "      <td>Europe</td>\n",
              "      <td>News</td>\n",
              "      <td>nyt://article/894cf51d-449b-5f9c-8d15-a923e89a...</td>\n",
              "      <td>https://www.nytimes.com/2019/01/02/world/europ...</td>\n",
              "      <td>1326</td>\n",
              "      <td>CHRISTINA ANDERSON</td>\n",
              "    </tr>\n",
              "    <tr>\n",
              "      <th>1</th>\n",
              "      <td>5c2cee413a125f5075c028db</td>\n",
              "      <td>[]</td>\n",
              "      <td>{'original': 'By TRIP GABRIEL', 'person': [{'f...</td>\n",
              "      <td>article</td>\n",
              "      <td>Voting Issues and Gerrymanders Are Now Key Pol...</td>\n",
              "      <td>[{'name': 'subject', 'value': 'Politics and Go...</td>\n",
              "      <td>The fairness of elections and voting have beco...</td>\n",
              "      <td>[{'rank': 0, 'subtype': 'xlarge', 'caption': N...</td>\n",
              "      <td>Politics</td>\n",
              "      <td>10</td>\n",
              "      <td>...</td>\n",
              "      <td>0</td>\n",
              "      <td>U.S.</td>\n",
              "      <td>The fairness of elections and voting have beco...</td>\n",
              "      <td>The New York Times</td>\n",
              "      <td>Politics</td>\n",
              "      <td>News</td>\n",
              "      <td>nyt://article/35363874-ab32-545a-84b4-9284fe68...</td>\n",
              "      <td>https://www.nytimes.com/2019/01/02/us/politics...</td>\n",
              "      <td>1779</td>\n",
              "      <td>TRIP GABRIEL</td>\n",
              "    </tr>\n",
              "    <tr>\n",
              "      <th>2</th>\n",
              "      <td>5c2cb0933a125f5075c0286f</td>\n",
              "      <td>[]</td>\n",
              "      <td>{'original': 'By KAI SCHULTZ and AYESHA VENKAT...</td>\n",
              "      <td>article</td>\n",
              "      <td>2 Indian Women Enter Sabarimala Temple, Settin...</td>\n",
              "      <td>[{'name': 'glocations', 'value': 'India', 'ran...</td>\n",
              "      <td>The act by two women in the state of Kerala fo...</td>\n",
              "      <td>[{'rank': 0, 'subtype': 'xlarge', 'caption': N...</td>\n",
              "      <td>Foreign</td>\n",
              "      <td>NaN</td>\n",
              "      <td>...</td>\n",
              "      <td>0</td>\n",
              "      <td>World</td>\n",
              "      <td>The act by two women in the state of Kerala fo...</td>\n",
              "      <td>The New York Times</td>\n",
              "      <td>Asia Pacific</td>\n",
              "      <td>News</td>\n",
              "      <td>nyt://article/1c1b3f4b-6b34-5ffc-bf29-7f290e09...</td>\n",
              "      <td>https://www.nytimes.com/2019/01/02/world/asia/...</td>\n",
              "      <td>778</td>\n",
              "      <td>KAI SCHULTZ and AYESHA VENKATARAMAN</td>\n",
              "    </tr>\n",
              "    <tr>\n",
              "      <th>3</th>\n",
              "      <td>5c2af8393a125f5075c026c9</td>\n",
              "      <td>[]</td>\n",
              "      <td>{'original': None, 'person': None, 'organizati...</td>\n",
              "      <td>article</td>\n",
              "      <td>On Politics: Elizabeth Warren Is Running for P...</td>\n",
              "      <td>[{'name': 'subject', 'value': 'United States P...</td>\n",
              "      <td>The Massachusetts senator is forming a preside...</td>\n",
              "      <td>[]</td>\n",
              "      <td>Politics</td>\n",
              "      <td>NaN</td>\n",
              "      <td>...</td>\n",
              "      <td>0</td>\n",
              "      <td>U.S.</td>\n",
              "      <td>The Massachusetts senator is forming a preside...</td>\n",
              "      <td>The New York Times</td>\n",
              "      <td>Politics</td>\n",
              "      <td>News</td>\n",
              "      <td>nyt://article/a22f03e5-38a4-5446-b9fa-f7a5c9f0...</td>\n",
              "      <td>https://www.nytimes.com/2019/01/01/us/politics...</td>\n",
              "      <td>419</td>\n",
              "      <td>None</td>\n",
              "    </tr>\n",
              "    <tr>\n",
              "      <th>4</th>\n",
              "      <td>5c2ac5f13a125f5075c026a3</td>\n",
              "      <td>[]</td>\n",
              "      <td>{'original': 'By MOTOKO RICH and DAVID E. SANG...</td>\n",
              "      <td>article</td>\n",
              "      <td>Kim Jong-un, Ready to Meet Trump ‘at Any Time,...</td>\n",
              "      <td>[{'name': 'persons', 'value': 'Kim Jong-un', '...</td>\n",
              "      <td>In his New Year’s Day speech, North Korea’s le...</td>\n",
              "      <td>[{'rank': 0, 'subtype': 'xlarge', 'caption': N...</td>\n",
              "      <td>Foreign</td>\n",
              "      <td>6</td>\n",
              "      <td>...</td>\n",
              "      <td>0</td>\n",
              "      <td>World</td>\n",
              "      <td>In his New Year’s Day speech, North Korea’s le...</td>\n",
              "      <td>The New York Times</td>\n",
              "      <td>Asia Pacific</td>\n",
              "      <td>News</td>\n",
              "      <td>nyt://article/b78d82ab-aacf-5984-90e9-03ff5556...</td>\n",
              "      <td>https://www.nytimes.com/2018/12/31/world/asia/...</td>\n",
              "      <td>1319</td>\n",
              "      <td>MOTOKO RICH and DAVID E. SANGER</td>\n",
              "    </tr>\n",
              "  </tbody>\n",
              "</table>\n",
              "<p>5 rows × 21 columns</p>\n",
              "</div>"
            ],
            "text/plain": [
              "                        _id blog  \\\n",
              "0  5c2d38833a125f5075c02974   []   \n",
              "1  5c2cee413a125f5075c028db   []   \n",
              "2  5c2cb0933a125f5075c0286f   []   \n",
              "3  5c2af8393a125f5075c026c9   []   \n",
              "4  5c2ac5f13a125f5075c026a3   []   \n",
              "\n",
              "                                              byline document_type  \\\n",
              "0  {'original': 'By CHRISTINA ANDERSON', 'person'...       article   \n",
              "1  {'original': 'By TRIP GABRIEL', 'person': [{'f...       article   \n",
              "2  {'original': 'By KAI SCHULTZ and AYESHA VENKAT...       article   \n",
              "3  {'original': None, 'person': None, 'organizati...       article   \n",
              "4  {'original': 'By MOTOKO RICH and DAVID E. SANG...       article   \n",
              "\n",
              "                                            headline  \\\n",
              "0  Where Doulas Calm Nerves and Bridge Cultures D...   \n",
              "1  Voting Issues and Gerrymanders Are Now Key Pol...   \n",
              "2  2 Indian Women Enter Sabarimala Temple, Settin...   \n",
              "3  On Politics: Elizabeth Warren Is Running for P...   \n",
              "4  Kim Jong-un, Ready to Meet Trump ‘at Any Time,...   \n",
              "\n",
              "                                            keywords  \\\n",
              "0  [{'name': 'glocations', 'value': 'Sweden', 'ra...   \n",
              "1  [{'name': 'subject', 'value': 'Politics and Go...   \n",
              "2  [{'name': 'glocations', 'value': 'India', 'ran...   \n",
              "3  [{'name': 'subject', 'value': 'United States P...   \n",
              "4  [{'name': 'persons', 'value': 'Kim Jong-un', '...   \n",
              "\n",
              "                                      lead_paragraph  \\\n",
              "0  In Sweden, midwives deliver babies. But doula ...   \n",
              "1  The fairness of elections and voting have beco...   \n",
              "2  The act by two women in the state of Kerala fo...   \n",
              "3  The Massachusetts senator is forming a preside...   \n",
              "4  In his New Year’s Day speech, North Korea’s le...   \n",
              "\n",
              "                                          multimedia news_desk print_page  \\\n",
              "0  [{'rank': 0, 'subtype': 'xlarge', 'caption': N...   Foreign          6   \n",
              "1  [{'rank': 0, 'subtype': 'xlarge', 'caption': N...  Politics         10   \n",
              "2  [{'rank': 0, 'subtype': 'xlarge', 'caption': N...   Foreign        NaN   \n",
              "3                                                 []  Politics        NaN   \n",
              "4  [{'rank': 0, 'subtype': 'xlarge', 'caption': N...   Foreign          6   \n",
              "\n",
              "                   ...                  score  section_name  \\\n",
              "0                  ...                      0         World   \n",
              "1                  ...                      0          U.S.   \n",
              "2                  ...                      0         World   \n",
              "3                  ...                      0          U.S.   \n",
              "4                  ...                      0         World   \n",
              "\n",
              "                                             snippet              source  \\\n",
              "0  In Sweden, midwives deliver babies. But doula ...  The New York Times   \n",
              "1  The fairness of elections and voting have beco...  The New York Times   \n",
              "2  The act by two women in the state of Kerala fo...  The New York Times   \n",
              "3  The Massachusetts senator is forming a preside...  The New York Times   \n",
              "4  In his New Year’s Day speech, North Korea’s le...  The New York Times   \n",
              "\n",
              "  subsectoinName type_of_material  \\\n",
              "0         Europe             News   \n",
              "1       Politics             News   \n",
              "2   Asia Pacific             News   \n",
              "3       Politics             News   \n",
              "4   Asia Pacific             News   \n",
              "\n",
              "                                                 uri  \\\n",
              "0  nyt://article/894cf51d-449b-5f9c-8d15-a923e89a...   \n",
              "1  nyt://article/35363874-ab32-545a-84b4-9284fe68...   \n",
              "2  nyt://article/1c1b3f4b-6b34-5ffc-bf29-7f290e09...   \n",
              "3  nyt://article/a22f03e5-38a4-5446-b9fa-f7a5c9f0...   \n",
              "4  nyt://article/b78d82ab-aacf-5984-90e9-03ff5556...   \n",
              "\n",
              "                                             web_url word_count  \\\n",
              "0  https://www.nytimes.com/2019/01/02/world/europ...       1326   \n",
              "1  https://www.nytimes.com/2019/01/02/us/politics...       1779   \n",
              "2  https://www.nytimes.com/2019/01/02/world/asia/...        778   \n",
              "3  https://www.nytimes.com/2019/01/01/us/politics...        419   \n",
              "4  https://www.nytimes.com/2018/12/31/world/asia/...       1319   \n",
              "\n",
              "                                 author  \n",
              "0                    CHRISTINA ANDERSON  \n",
              "1                          TRIP GABRIEL  \n",
              "2   KAI SCHULTZ and AYESHA VENKATARAMAN  \n",
              "3                                  None  \n",
              "4       MOTOKO RICH and DAVID E. SANGER  \n",
              "\n",
              "[5 rows x 21 columns]"
            ]
          },
          "metadata": {
            "tags": []
          },
          "execution_count": 78
        }
      ]
    },
    {
      "metadata": {
        "id": "ov6p-I12tdxg",
        "colab_type": "code",
        "colab": {}
      },
      "cell_type": "code",
      "source": [
        "df2 = df1[['headline','document_type','pub_date','source','section_name','author','word_count','web_url']]\n"
      ],
      "execution_count": 0,
      "outputs": []
    },
    {
      "metadata": {
        "id": "UdD0i61wtnyk",
        "colab_type": "code",
        "colab": {}
      },
      "cell_type": "code",
      "source": [
        "df2 = df2[df2.document_type == 'article']\n",
        "\n"
      ],
      "execution_count": 0,
      "outputs": []
    },
    {
      "metadata": {
        "id": "mleDZYop0VzL",
        "colab_type": "code",
        "colab": {
          "base_uri": "https://localhost:8080/",
          "height": 510
        },
        "outputId": "3822f352-b77b-45a5-ab8a-acdedbc07364"
      },
      "cell_type": "code",
      "source": [
        "df2.head(5)"
      ],
      "execution_count": 79,
      "outputs": [
        {
          "output_type": "execute_result",
          "data": {
            "text/html": [
              "<div>\n",
              "<style scoped>\n",
              "    .dataframe tbody tr th:only-of-type {\n",
              "        vertical-align: middle;\n",
              "    }\n",
              "\n",
              "    .dataframe tbody tr th {\n",
              "        vertical-align: top;\n",
              "    }\n",
              "\n",
              "    .dataframe thead th {\n",
              "        text-align: right;\n",
              "    }\n",
              "</style>\n",
              "<table border=\"1\" class=\"dataframe\">\n",
              "  <thead>\n",
              "    <tr style=\"text-align: right;\">\n",
              "      <th></th>\n",
              "      <th>headline</th>\n",
              "      <th>document_type</th>\n",
              "      <th>pub_date</th>\n",
              "      <th>source</th>\n",
              "      <th>section_name</th>\n",
              "      <th>author</th>\n",
              "      <th>word_count</th>\n",
              "      <th>web_url</th>\n",
              "    </tr>\n",
              "  </thead>\n",
              "  <tbody>\n",
              "    <tr>\n",
              "      <th>0</th>\n",
              "      <td>Where Doulas Calm Nerves and Bridge Cultures D...</td>\n",
              "      <td>article</td>\n",
              "      <td>2019-01-02T22:17:38+0000</td>\n",
              "      <td>The New York Times</td>\n",
              "      <td>World</td>\n",
              "      <td>CHRISTINA ANDERSON</td>\n",
              "      <td>1326</td>\n",
              "      <td>https://www.nytimes.com/2019/01/02/world/europ...</td>\n",
              "    </tr>\n",
              "    <tr>\n",
              "      <th>1</th>\n",
              "      <td>Voting Issues and Gerrymanders Are Now Key Pol...</td>\n",
              "      <td>article</td>\n",
              "      <td>2019-01-02T17:00:47+0000</td>\n",
              "      <td>The New York Times</td>\n",
              "      <td>U.S.</td>\n",
              "      <td>TRIP GABRIEL</td>\n",
              "      <td>1779</td>\n",
              "      <td>https://www.nytimes.com/2019/01/02/us/politics...</td>\n",
              "    </tr>\n",
              "    <tr>\n",
              "      <th>2</th>\n",
              "      <td>2 Indian Women Enter Sabarimala Temple, Settin...</td>\n",
              "      <td>article</td>\n",
              "      <td>2019-01-02T12:37:37+0000</td>\n",
              "      <td>The New York Times</td>\n",
              "      <td>World</td>\n",
              "      <td>KAI SCHULTZ and AYESHA VENKATARAMAN</td>\n",
              "      <td>778</td>\n",
              "      <td>https://www.nytimes.com/2019/01/02/world/asia/...</td>\n",
              "    </tr>\n",
              "    <tr>\n",
              "      <th>3</th>\n",
              "      <td>On Politics: Elizabeth Warren Is Running for P...</td>\n",
              "      <td>article</td>\n",
              "      <td>2019-01-01T05:18:48+0000</td>\n",
              "      <td>The New York Times</td>\n",
              "      <td>U.S.</td>\n",
              "      <td>None</td>\n",
              "      <td>419</td>\n",
              "      <td>https://www.nytimes.com/2019/01/01/us/politics...</td>\n",
              "    </tr>\n",
              "    <tr>\n",
              "      <th>4</th>\n",
              "      <td>Kim Jong-un, Ready to Meet Trump ‘at Any Time,...</td>\n",
              "      <td>article</td>\n",
              "      <td>2019-01-01T01:44:15+0000</td>\n",
              "      <td>The New York Times</td>\n",
              "      <td>World</td>\n",
              "      <td>MOTOKO RICH and DAVID E. SANGER</td>\n",
              "      <td>1319</td>\n",
              "      <td>https://www.nytimes.com/2018/12/31/world/asia/...</td>\n",
              "    </tr>\n",
              "  </tbody>\n",
              "</table>\n",
              "</div>"
            ],
            "text/plain": [
              "                                            headline document_type  \\\n",
              "0  Where Doulas Calm Nerves and Bridge Cultures D...       article   \n",
              "1  Voting Issues and Gerrymanders Are Now Key Pol...       article   \n",
              "2  2 Indian Women Enter Sabarimala Temple, Settin...       article   \n",
              "3  On Politics: Elizabeth Warren Is Running for P...       article   \n",
              "4  Kim Jong-un, Ready to Meet Trump ‘at Any Time,...       article   \n",
              "\n",
              "                   pub_date              source section_name  \\\n",
              "0  2019-01-02T22:17:38+0000  The New York Times        World   \n",
              "1  2019-01-02T17:00:47+0000  The New York Times         U.S.   \n",
              "2  2019-01-02T12:37:37+0000  The New York Times        World   \n",
              "3  2019-01-01T05:18:48+0000  The New York Times         U.S.   \n",
              "4  2019-01-01T01:44:15+0000  The New York Times        World   \n",
              "\n",
              "                                 author  word_count  \\\n",
              "0                    CHRISTINA ANDERSON        1326   \n",
              "1                          TRIP GABRIEL        1779   \n",
              "2   KAI SCHULTZ and AYESHA VENKATARAMAN         778   \n",
              "3                                  None         419   \n",
              "4       MOTOKO RICH and DAVID E. SANGER        1319   \n",
              "\n",
              "                                             web_url  \n",
              "0  https://www.nytimes.com/2019/01/02/world/europ...  \n",
              "1  https://www.nytimes.com/2019/01/02/us/politics...  \n",
              "2  https://www.nytimes.com/2019/01/02/world/asia/...  \n",
              "3  https://www.nytimes.com/2019/01/01/us/politics...  \n",
              "4  https://www.nytimes.com/2018/12/31/world/asia/...  "
            ]
          },
          "metadata": {
            "tags": []
          },
          "execution_count": 79
        }
      ]
    },
    {
      "metadata": {
        "id": "Wt3GaWGEtszY",
        "colab_type": "code",
        "colab": {
          "base_uri": "https://localhost:8080/",
          "height": 34
        },
        "outputId": "bafba95c-44d4-42f0-9558-fb51f0cf6593"
      },
      "cell_type": "code",
      "source": [
        "url_list =[]\n",
        "story = []\n",
        "\n",
        "for z in range(1811):\n",
        "  try:\n",
        "    \n",
        "    url2 = df2['web_url'][z]\n",
        "    #print(url2)\n",
        "    url_list.append(url2)\n",
        "    response = requests.get(url2)\n",
        "    s = response.content\n",
        "    #print(s)\n",
        "    soup = BeautifulSoup(s)\n",
        "    one = soup.find_all(\"section\", {\"name\": \"articleBody\"})\n",
        "    #print(one)\n",
        "    a = str(one)\n",
        "    result = re.sub(\"<.*?>\", \"\", a)\n",
        "    #result1 = re.sub(\"[]\", \"\", result)\n",
        "    story.append(result)\n",
        "    #print(result)\n",
        "  except:\n",
        "    url_list.append('')\n",
        "    story.append('')\n",
        "    continue\n",
        "#     #print ('invalid url %s' %(url))\n",
        "# #     url_list.append('')\n",
        "# #     story.append('')\n",
        "print('done')"
      ],
      "execution_count": 63,
      "outputs": [
        {
          "output_type": "stream",
          "text": [
            "done\n"
          ],
          "name": "stdout"
        }
      ]
    },
    {
      "metadata": {
        "id": "PwNTByC01LF2",
        "colab_type": "code",
        "colab": {}
      },
      "cell_type": "code",
      "source": [
        "df3 = pd.DataFrame({'web_url':url_list})\n",
        "df3['content'] = story  \n",
        "df3['content'] = df3['content'].str.strip('[]')"
      ],
      "execution_count": 0,
      "outputs": []
    },
    {
      "metadata": {
        "id": "M7QKXiG41VU3",
        "colab_type": "code",
        "colab": {
          "base_uri": "https://localhost:8080/",
          "height": 204
        },
        "outputId": "b9fb5ab1-fcd9-4812-801d-232076dd392f"
      },
      "cell_type": "code",
      "source": [
        "df3.head(5)"
      ],
      "execution_count": 80,
      "outputs": [
        {
          "output_type": "execute_result",
          "data": {
            "text/html": [
              "<div>\n",
              "<style scoped>\n",
              "    .dataframe tbody tr th:only-of-type {\n",
              "        vertical-align: middle;\n",
              "    }\n",
              "\n",
              "    .dataframe tbody tr th {\n",
              "        vertical-align: top;\n",
              "    }\n",
              "\n",
              "    .dataframe thead th {\n",
              "        text-align: right;\n",
              "    }\n",
              "</style>\n",
              "<table border=\"1\" class=\"dataframe\">\n",
              "  <thead>\n",
              "    <tr style=\"text-align: right;\">\n",
              "      <th></th>\n",
              "      <th>web_url</th>\n",
              "      <th>content</th>\n",
              "    </tr>\n",
              "  </thead>\n",
              "  <tbody>\n",
              "    <tr>\n",
              "      <th>0</th>\n",
              "      <td>https://www.nytimes.com/2019/01/02/world/europ...</td>\n",
              "      <td>HALMSTAD, Sweden — Maria Hussein, who escaped ...</td>\n",
              "    </tr>\n",
              "    <tr>\n",
              "      <th>1</th>\n",
              "      <td>https://www.nytimes.com/2019/01/02/us/politics...</td>\n",
              "      <td>Voting rights and partisan gerrymandering, tra...</td>\n",
              "    </tr>\n",
              "    <tr>\n",
              "      <th>2</th>\n",
              "      <td>https://www.nytimes.com/2019/01/02/world/asia/...</td>\n",
              "      <td>NEW DELHI — Two women, accompanied by plainclo...</td>\n",
              "    </tr>\n",
              "    <tr>\n",
              "      <th>3</th>\n",
              "      <td>https://www.nytimes.com/2019/01/01/us/politics...</td>\n",
              "      <td>Good Tuesday morning and Happy New Year. Here ...</td>\n",
              "    </tr>\n",
              "    <tr>\n",
              "      <th>4</th>\n",
              "      <td>https://www.nytimes.com/2018/12/31/world/asia/...</td>\n",
              "      <td>TOKYO — Kim Jong-un, North Korea’s leader, sai...</td>\n",
              "    </tr>\n",
              "  </tbody>\n",
              "</table>\n",
              "</div>"
            ],
            "text/plain": [
              "                                             web_url  \\\n",
              "0  https://www.nytimes.com/2019/01/02/world/europ...   \n",
              "1  https://www.nytimes.com/2019/01/02/us/politics...   \n",
              "2  https://www.nytimes.com/2019/01/02/world/asia/...   \n",
              "3  https://www.nytimes.com/2019/01/01/us/politics...   \n",
              "4  https://www.nytimes.com/2018/12/31/world/asia/...   \n",
              "\n",
              "                                             content  \n",
              "0  HALMSTAD, Sweden — Maria Hussein, who escaped ...  \n",
              "1  Voting rights and partisan gerrymandering, tra...  \n",
              "2  NEW DELHI — Two women, accompanied by plainclo...  \n",
              "3  Good Tuesday morning and Happy New Year. Here ...  \n",
              "4  TOKYO — Kim Jong-un, North Korea’s leader, sai...  "
            ]
          },
          "metadata": {
            "tags": []
          },
          "execution_count": 80
        }
      ]
    },
    {
      "metadata": {
        "id": "OUDf56gc32YI",
        "colab_type": "code",
        "colab": {}
      },
      "cell_type": "code",
      "source": [
        "df4 = pd.merge(df3, df2, on='web_url', how='inner')\n"
      ],
      "execution_count": 0,
      "outputs": []
    },
    {
      "metadata": {
        "id": "-5AGucoz5TYa",
        "colab_type": "code",
        "colab": {
          "base_uri": "https://localhost:8080/",
          "height": 459
        },
        "outputId": "f10677de-b7b3-471d-896c-c2dce4a25a99"
      },
      "cell_type": "code",
      "source": [
        "df4.head(5)"
      ],
      "execution_count": 155,
      "outputs": [
        {
          "output_type": "execute_result",
          "data": {
            "text/html": [
              "<div>\n",
              "<style scoped>\n",
              "    .dataframe tbody tr th:only-of-type {\n",
              "        vertical-align: middle;\n",
              "    }\n",
              "\n",
              "    .dataframe tbody tr th {\n",
              "        vertical-align: top;\n",
              "    }\n",
              "\n",
              "    .dataframe thead th {\n",
              "        text-align: right;\n",
              "    }\n",
              "</style>\n",
              "<table border=\"1\" class=\"dataframe\">\n",
              "  <thead>\n",
              "    <tr style=\"text-align: right;\">\n",
              "      <th></th>\n",
              "      <th>web_url</th>\n",
              "      <th>content</th>\n",
              "      <th>headline</th>\n",
              "      <th>document_type</th>\n",
              "      <th>pub_date</th>\n",
              "      <th>source</th>\n",
              "      <th>section_name</th>\n",
              "      <th>author</th>\n",
              "      <th>word_count</th>\n",
              "    </tr>\n",
              "  </thead>\n",
              "  <tbody>\n",
              "    <tr>\n",
              "      <th>0</th>\n",
              "      <td>https://www.nytimes.com/2019/01/02/world/europ...</td>\n",
              "      <td>HALMSTAD, Sweden — Maria Hussein, who escaped ...</td>\n",
              "      <td>Where Doulas Calm Nerves and Bridge Cultures D...</td>\n",
              "      <td>article</td>\n",
              "      <td>2019-01-02T22:17:38+0000</td>\n",
              "      <td>The New York Times</td>\n",
              "      <td>World</td>\n",
              "      <td>CHRISTINA ANDERSON</td>\n",
              "      <td>1326</td>\n",
              "    </tr>\n",
              "    <tr>\n",
              "      <th>1</th>\n",
              "      <td>https://www.nytimes.com/2019/01/02/us/politics...</td>\n",
              "      <td>Voting rights and partisan gerrymandering, tra...</td>\n",
              "      <td>Voting Issues and Gerrymanders Are Now Key Pol...</td>\n",
              "      <td>article</td>\n",
              "      <td>2019-01-02T17:00:47+0000</td>\n",
              "      <td>The New York Times</td>\n",
              "      <td>U.S.</td>\n",
              "      <td>TRIP GABRIEL</td>\n",
              "      <td>1779</td>\n",
              "    </tr>\n",
              "    <tr>\n",
              "      <th>2</th>\n",
              "      <td>https://www.nytimes.com/2019/01/02/us/politics...</td>\n",
              "      <td>Voting rights and partisan gerrymandering, tra...</td>\n",
              "      <td>Voting Issues and Gerrymanders Are Now Key Pol...</td>\n",
              "      <td>article</td>\n",
              "      <td>2019-01-02T17:00:47+0000</td>\n",
              "      <td>The New York Times</td>\n",
              "      <td>U.S.</td>\n",
              "      <td>TRIP GABRIEL</td>\n",
              "      <td>1779</td>\n",
              "    </tr>\n",
              "    <tr>\n",
              "      <th>3</th>\n",
              "      <td>https://www.nytimes.com/2019/01/02/us/politics...</td>\n",
              "      <td>Voting rights and partisan gerrymandering, tra...</td>\n",
              "      <td>Voting Issues and Gerrymanders Are Now Key Pol...</td>\n",
              "      <td>article</td>\n",
              "      <td>2019-01-02T17:00:47+0000</td>\n",
              "      <td>The New York Times</td>\n",
              "      <td>U.S.</td>\n",
              "      <td>TRIP GABRIEL</td>\n",
              "      <td>1779</td>\n",
              "    </tr>\n",
              "    <tr>\n",
              "      <th>4</th>\n",
              "      <td>https://www.nytimes.com/2019/01/02/us/politics...</td>\n",
              "      <td>Voting rights and partisan gerrymandering, tra...</td>\n",
              "      <td>Voting Issues and Gerrymanders Are Now Key Pol...</td>\n",
              "      <td>article</td>\n",
              "      <td>2019-01-02T17:00:47+0000</td>\n",
              "      <td>The New York Times</td>\n",
              "      <td>U.S.</td>\n",
              "      <td>TRIP GABRIEL</td>\n",
              "      <td>1779</td>\n",
              "    </tr>\n",
              "  </tbody>\n",
              "</table>\n",
              "</div>"
            ],
            "text/plain": [
              "                                             web_url  \\\n",
              "0  https://www.nytimes.com/2019/01/02/world/europ...   \n",
              "1  https://www.nytimes.com/2019/01/02/us/politics...   \n",
              "2  https://www.nytimes.com/2019/01/02/us/politics...   \n",
              "3  https://www.nytimes.com/2019/01/02/us/politics...   \n",
              "4  https://www.nytimes.com/2019/01/02/us/politics...   \n",
              "\n",
              "                                             content  \\\n",
              "0  HALMSTAD, Sweden — Maria Hussein, who escaped ...   \n",
              "1  Voting rights and partisan gerrymandering, tra...   \n",
              "2  Voting rights and partisan gerrymandering, tra...   \n",
              "3  Voting rights and partisan gerrymandering, tra...   \n",
              "4  Voting rights and partisan gerrymandering, tra...   \n",
              "\n",
              "                                            headline document_type  \\\n",
              "0  Where Doulas Calm Nerves and Bridge Cultures D...       article   \n",
              "1  Voting Issues and Gerrymanders Are Now Key Pol...       article   \n",
              "2  Voting Issues and Gerrymanders Are Now Key Pol...       article   \n",
              "3  Voting Issues and Gerrymanders Are Now Key Pol...       article   \n",
              "4  Voting Issues and Gerrymanders Are Now Key Pol...       article   \n",
              "\n",
              "                   pub_date              source section_name  \\\n",
              "0  2019-01-02T22:17:38+0000  The New York Times        World   \n",
              "1  2019-01-02T17:00:47+0000  The New York Times         U.S.   \n",
              "2  2019-01-02T17:00:47+0000  The New York Times         U.S.   \n",
              "3  2019-01-02T17:00:47+0000  The New York Times         U.S.   \n",
              "4  2019-01-02T17:00:47+0000  The New York Times         U.S.   \n",
              "\n",
              "                author  word_count  \n",
              "0   CHRISTINA ANDERSON        1326  \n",
              "1         TRIP GABRIEL        1779  \n",
              "2         TRIP GABRIEL        1779  \n",
              "3         TRIP GABRIEL        1779  \n",
              "4         TRIP GABRIEL        1779  "
            ]
          },
          "metadata": {
            "tags": []
          },
          "execution_count": 155
        }
      ]
    },
    {
      "metadata": {
        "id": "CmXrix7e-ERe",
        "colab_type": "code",
        "colab": {}
      },
      "cell_type": "code",
      "source": [
        "df4.drop_duplicates(subset='web_url', keep='first', inplace=True)"
      ],
      "execution_count": 0,
      "outputs": []
    },
    {
      "metadata": {
        "id": "1-SEV0UNQkXe",
        "colab_type": "code",
        "colab": {
          "base_uri": "https://localhost:8080/",
          "height": 459
        },
        "outputId": "090546a4-3c72-401c-d962-17cc40e93fef"
      },
      "cell_type": "code",
      "source": [
        "df4.head(5)"
      ],
      "execution_count": 157,
      "outputs": [
        {
          "output_type": "execute_result",
          "data": {
            "text/html": [
              "<div>\n",
              "<style scoped>\n",
              "    .dataframe tbody tr th:only-of-type {\n",
              "        vertical-align: middle;\n",
              "    }\n",
              "\n",
              "    .dataframe tbody tr th {\n",
              "        vertical-align: top;\n",
              "    }\n",
              "\n",
              "    .dataframe thead th {\n",
              "        text-align: right;\n",
              "    }\n",
              "</style>\n",
              "<table border=\"1\" class=\"dataframe\">\n",
              "  <thead>\n",
              "    <tr style=\"text-align: right;\">\n",
              "      <th></th>\n",
              "      <th>web_url</th>\n",
              "      <th>content</th>\n",
              "      <th>headline</th>\n",
              "      <th>document_type</th>\n",
              "      <th>pub_date</th>\n",
              "      <th>source</th>\n",
              "      <th>section_name</th>\n",
              "      <th>author</th>\n",
              "      <th>word_count</th>\n",
              "    </tr>\n",
              "  </thead>\n",
              "  <tbody>\n",
              "    <tr>\n",
              "      <th>0</th>\n",
              "      <td>https://www.nytimes.com/2019/01/02/world/europ...</td>\n",
              "      <td>HALMSTAD, Sweden — Maria Hussein, who escaped ...</td>\n",
              "      <td>Where Doulas Calm Nerves and Bridge Cultures D...</td>\n",
              "      <td>article</td>\n",
              "      <td>2019-01-02T22:17:38+0000</td>\n",
              "      <td>The New York Times</td>\n",
              "      <td>World</td>\n",
              "      <td>CHRISTINA ANDERSON</td>\n",
              "      <td>1326</td>\n",
              "    </tr>\n",
              "    <tr>\n",
              "      <th>1</th>\n",
              "      <td>https://www.nytimes.com/2019/01/02/us/politics...</td>\n",
              "      <td>Voting rights and partisan gerrymandering, tra...</td>\n",
              "      <td>Voting Issues and Gerrymanders Are Now Key Pol...</td>\n",
              "      <td>article</td>\n",
              "      <td>2019-01-02T17:00:47+0000</td>\n",
              "      <td>The New York Times</td>\n",
              "      <td>U.S.</td>\n",
              "      <td>TRIP GABRIEL</td>\n",
              "      <td>1779</td>\n",
              "    </tr>\n",
              "    <tr>\n",
              "      <th>5</th>\n",
              "      <td>https://www.nytimes.com/2019/01/02/world/asia/...</td>\n",
              "      <td>NEW DELHI — Two women, accompanied by plainclo...</td>\n",
              "      <td>2 Indian Women Enter Sabarimala Temple, Settin...</td>\n",
              "      <td>article</td>\n",
              "      <td>2019-01-02T12:37:37+0000</td>\n",
              "      <td>The New York Times</td>\n",
              "      <td>World</td>\n",
              "      <td>KAI SCHULTZ and AYESHA VENKATARAMAN</td>\n",
              "      <td>778</td>\n",
              "    </tr>\n",
              "    <tr>\n",
              "      <th>6</th>\n",
              "      <td>https://www.nytimes.com/2019/01/01/us/politics...</td>\n",
              "      <td>Good Tuesday morning and Happy New Year. Here ...</td>\n",
              "      <td>On Politics: Elizabeth Warren Is Running for P...</td>\n",
              "      <td>article</td>\n",
              "      <td>2019-01-01T05:18:48+0000</td>\n",
              "      <td>The New York Times</td>\n",
              "      <td>U.S.</td>\n",
              "      <td>None</td>\n",
              "      <td>419</td>\n",
              "    </tr>\n",
              "    <tr>\n",
              "      <th>10</th>\n",
              "      <td>https://www.nytimes.com/2018/12/31/world/asia/...</td>\n",
              "      <td>TOKYO — Kim Jong-un, North Korea’s leader, sai...</td>\n",
              "      <td>Kim Jong-un, Ready to Meet Trump ‘at Any Time,...</td>\n",
              "      <td>article</td>\n",
              "      <td>2019-01-01T01:44:15+0000</td>\n",
              "      <td>The New York Times</td>\n",
              "      <td>World</td>\n",
              "      <td>MOTOKO RICH and DAVID E. SANGER</td>\n",
              "      <td>1319</td>\n",
              "    </tr>\n",
              "  </tbody>\n",
              "</table>\n",
              "</div>"
            ],
            "text/plain": [
              "                                              web_url  \\\n",
              "0   https://www.nytimes.com/2019/01/02/world/europ...   \n",
              "1   https://www.nytimes.com/2019/01/02/us/politics...   \n",
              "5   https://www.nytimes.com/2019/01/02/world/asia/...   \n",
              "6   https://www.nytimes.com/2019/01/01/us/politics...   \n",
              "10  https://www.nytimes.com/2018/12/31/world/asia/...   \n",
              "\n",
              "                                              content  \\\n",
              "0   HALMSTAD, Sweden — Maria Hussein, who escaped ...   \n",
              "1   Voting rights and partisan gerrymandering, tra...   \n",
              "5   NEW DELHI — Two women, accompanied by plainclo...   \n",
              "6   Good Tuesday morning and Happy New Year. Here ...   \n",
              "10  TOKYO — Kim Jong-un, North Korea’s leader, sai...   \n",
              "\n",
              "                                             headline document_type  \\\n",
              "0   Where Doulas Calm Nerves and Bridge Cultures D...       article   \n",
              "1   Voting Issues and Gerrymanders Are Now Key Pol...       article   \n",
              "5   2 Indian Women Enter Sabarimala Temple, Settin...       article   \n",
              "6   On Politics: Elizabeth Warren Is Running for P...       article   \n",
              "10  Kim Jong-un, Ready to Meet Trump ‘at Any Time,...       article   \n",
              "\n",
              "                    pub_date              source section_name  \\\n",
              "0   2019-01-02T22:17:38+0000  The New York Times        World   \n",
              "1   2019-01-02T17:00:47+0000  The New York Times         U.S.   \n",
              "5   2019-01-02T12:37:37+0000  The New York Times        World   \n",
              "6   2019-01-01T05:18:48+0000  The New York Times         U.S.   \n",
              "10  2019-01-01T01:44:15+0000  The New York Times        World   \n",
              "\n",
              "                                  author  word_count  \n",
              "0                     CHRISTINA ANDERSON        1326  \n",
              "1                           TRIP GABRIEL        1779  \n",
              "5    KAI SCHULTZ and AYESHA VENKATARAMAN         778  \n",
              "6                                   None         419  \n",
              "10       MOTOKO RICH and DAVID E. SANGER        1319  "
            ]
          },
          "metadata": {
            "tags": []
          },
          "execution_count": 157
        }
      ]
    },
    {
      "metadata": {
        "id": "e2S4XoHSzLnj",
        "colab_type": "code",
        "colab": {
          "base_uri": "https://localhost:8080/",
          "height": 34
        },
        "outputId": "5729a939-cf83-41d0-979f-ef25dde6a78b"
      },
      "cell_type": "code",
      "source": [
        "from google.colab import drive\n",
        "drive.mount('drive')"
      ],
      "execution_count": 150,
      "outputs": [
        {
          "output_type": "stream",
          "text": [
            "Drive already mounted at drive; to attempt to forcibly remount, call drive.mount(\"drive\", force_remount=True).\n"
          ],
          "name": "stdout"
        }
      ]
    },
    {
      "metadata": {
        "id": "NT6vRRZ4zTmh",
        "colab_type": "code",
        "colab": {}
      },
      "cell_type": "code",
      "source": [
        "df4.to_csv('data_jan_2019.csv')\n",
        "!cp data_jan_2019.csv drive/My\\ Drive/"
      ],
      "execution_count": 0,
      "outputs": []
    }
  ]
}