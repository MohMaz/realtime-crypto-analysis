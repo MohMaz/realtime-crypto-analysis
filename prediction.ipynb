{
  "nbformat": 4,
  "nbformat_minor": 0,
  "metadata": {
    "colab": {
      "name": "prediction.ipynb",
      "version": "0.3.2",
      "provenance": [],
      "collapsed_sections": []
    },
    "kernelspec": {
      "name": "python3",
      "display_name": "Python 3"
    },
    "accelerator": "GPU"
  },
  "cells": [
    {
      "metadata": {
        "id": "vPRWhZyoBlhZ",
        "colab_type": "text"
      },
      "cell_type": "markdown",
      "source": [
        "# Bitcoin movement Prediction \n",
        "\n",
        "### Introduction\n",
        "In this notebook we load the pre-train model for Bitcoin price movmnet. Then a smaple time-series data is feedede to model for prediction.\n",
        "\n",
        "The data is a nampy array of 60 element which are an array of size 6 with the following features:  ['Open', 'High', 'Low', 'Close','Volume', 'senmiment']. \n",
        "\n",
        "Thus we predict the Bitcoin price movement nowing the last 60 minutes data. \n",
        "The code output a value between 0 and 1. The vale between 0 and 0.5 is predicted as price will go down, and value between 0.5 and 1 is interpreted as if price will go up.\n"
      ]
    },
    {
      "metadata": {
        "id": "Cqmw1RFMBlhe",
        "colab_type": "text"
      },
      "cell_type": "markdown",
      "source": [
        "## 0. Setting Parameters"
      ]
    },
    {
      "metadata": {
        "id": "VXPoThCECOAK",
        "colab_type": "code",
        "outputId": "59d29149-dd43-42f5-ffa9-e40ef117d999",
        "colab": {
          "base_uri": "https://localhost:8080/",
          "height": 74
        }
      },
      "cell_type": "code",
      "source": [
        "from google.colab import drive\n",
        "drive.mount('/content/gdrive')"
      ],
      "execution_count": 1,
      "outputs": [
        {
          "output_type": "stream",
          "text": [
            "Drive already mounted at /content/gdrive; to attempt to forcibly remount, call drive.mount(\"/content/gdrive\", force_remount=True).\n"
          ],
          "name": "stdout"
        }
      ]
    },
    {
      "metadata": {
        "id": "N9jZFOqAoTFb",
        "colab_type": "code",
        "colab": {
          "base_uri": "https://localhost:8080/",
          "height": 227
        },
        "outputId": "568751e5-92e8-4ed0-dbf6-a463b145a8bd"
      },
      "cell_type": "code",
      "source": [
        "from keras.models import load_model\n",
        "model = load_model(\"/content/gdrive/My Drive/Colab Notebooks/cryptocurrency/LSTM/model/LSTM_model_april6_0.h5\")"
      ],
      "execution_count": 2,
      "outputs": [
        {
          "output_type": "stream",
          "text": [
            "Using TensorFlow backend.\n"
          ],
          "name": "stderr"
        },
        {
          "output_type": "stream",
          "text": [
            "WARNING:tensorflow:From /usr/local/lib/python3.6/dist-packages/tensorflow/python/framework/op_def_library.py:263: colocate_with (from tensorflow.python.framework.ops) is deprecated and will be removed in a future version.\n",
            "Instructions for updating:\n",
            "Colocations handled automatically by placer.\n",
            "WARNING:tensorflow:From /usr/local/lib/python3.6/dist-packages/keras/backend/tensorflow_backend.py:3445: calling dropout (from tensorflow.python.ops.nn_ops) with keep_prob is deprecated and will be removed in a future version.\n",
            "Instructions for updating:\n",
            "Please use `rate` instead of `keep_prob`. Rate should be set to `rate = 1 - keep_prob`.\n",
            "WARNING:tensorflow:From /usr/local/lib/python3.6/dist-packages/tensorflow/python/ops/math_ops.py:3066: to_int32 (from tensorflow.python.ops.math_ops) is deprecated and will be removed in a future version.\n",
            "Instructions for updating:\n",
            "Use tf.cast instead.\n"
          ],
          "name": "stdout"
        }
      ]
    },
    {
      "metadata": {
        "id": "3oxKu2hzsCmQ",
        "colab_type": "text"
      },
      "cell_type": "markdown",
      "source": [
        "This is how the sample data looks like:"
      ]
    },
    {
      "metadata": {
        "id": "iqh6UbpkpkNi",
        "colab_type": "code",
        "colab": {
          "base_uri": "https://localhost:8080/",
          "height": 2057
        },
        "outputId": "358fa810-a779-4407-892d-88f9640ca0ed"
      },
      "cell_type": "code",
      "source": [
        "sample"
      ],
      "execution_count": 18,
      "outputs": [
        {
          "output_type": "execute_result",
          "data": {
            "text/plain": [
              "array([[9.98672822e-01, 9.98672822e-01, 9.98672822e-01, 9.98672822e-01,\n",
              "        2.57048408e-03, 0.00000000e+00],\n",
              "       [9.98209791e-01, 9.98672822e-01, 9.98209791e-01, 9.98672822e-01,\n",
              "        7.01955157e-03, 0.00000000e+00],\n",
              "       [9.99047017e-01, 9.99305453e-01, 9.99047017e-01, 9.99047017e-01,\n",
              "        1.34963886e-02, 0.00000000e+00],\n",
              "       [9.98866650e-01, 9.98944719e-01, 9.98791272e-01, 9.98944719e-01,\n",
              "        1.32356611e-02, 0.00000000e+00],\n",
              "       [9.98944719e-01, 9.99254304e-01, 9.98231327e-01, 9.98231327e-01,\n",
              "        2.02692540e-03, 0.00000000e+00],\n",
              "       [9.98799349e-01, 9.98799349e-01, 9.98799349e-01, 9.98799349e-01,\n",
              "        4.07371784e-03, 0.00000000e+00],\n",
              "       [9.98799349e-01, 9.98799349e-01, 9.98799349e-01, 9.98799349e-01,\n",
              "        1.58037337e-05, 0.00000000e+00],\n",
              "       [9.98228635e-01, 9.98228635e-01, 9.98228635e-01, 9.98228635e-01,\n",
              "        1.58037337e-05, 0.00000000e+00],\n",
              "       [9.98799349e-01, 9.98799349e-01, 9.98239403e-01, 9.98799349e-01,\n",
              "        1.13574820e-03, 0.00000000e+00],\n",
              "       [9.98799349e-01, 9.98799349e-01, 9.98799349e-01, 9.98799349e-01,\n",
              "        1.58037337e-05, 0.00000000e+00],\n",
              "       [9.98293244e-01, 9.99221999e-01, 9.98293244e-01, 9.99221999e-01,\n",
              "        7.61761590e-03, 0.00000000e+00],\n",
              "       [9.99606962e-01, 9.99617730e-01, 9.99606962e-01, 9.99617730e-01,\n",
              "        2.11026740e-02, 0.00000000e+00],\n",
              "       [9.98912414e-01, 9.99741564e-01, 9.98912414e-01, 9.99741564e-01,\n",
              "        5.13196484e-03, 0.00000000e+00],\n",
              "       [9.99620422e-01, 9.99623114e-01, 9.98478995e-01, 9.98478995e-01,\n",
              "        1.86457807e-02, 0.00000000e+00],\n",
              "       [9.99243536e-01, 9.99243536e-01, 9.99100857e-01, 9.99100857e-01,\n",
              "        3.90171514e-03, 0.00000000e+00],\n",
              "       [9.99100857e-01, 9.99100857e-01, 9.98627058e-01, 9.99100857e-01,\n",
              "        5.13897910e-05, 0.00000000e+00],\n",
              "       [9.98748200e-01, 9.99100857e-01, 9.98748200e-01, 9.99100857e-01,\n",
              "        1.64619653e-02, 0.00000000e+00],\n",
              "       [9.99098165e-01, 9.99100857e-01, 9.98748200e-01, 9.98748200e-01,\n",
              "        4.11997797e-03, 0.00000000e+00],\n",
              "       [9.99036248e-01, 9.99036248e-01, 9.98201715e-01, 9.98201715e-01,\n",
              "        3.87146108e-02, 0.00000000e+00],\n",
              "       [9.98395542e-01, 9.99100857e-01, 9.98336317e-01, 9.99100857e-01,\n",
              "        2.93440459e-02, 0.00000000e+00],\n",
              "       [9.99006636e-01, 9.99100857e-01, 9.98799349e-01, 9.98799349e-01,\n",
              "        3.09252009e-02, 0.00000000e+00],\n",
              "       [9.98799349e-01, 9.99100857e-01, 9.98527452e-01, 9.98527452e-01,\n",
              "        1.99283521e-01, 0.00000000e+00],\n",
              "       [9.98589369e-01, 9.98758968e-01, 9.98589369e-01, 9.98758968e-01,\n",
              "        1.49562723e-02, 0.00000000e+00],\n",
              "       [9.98508608e-01, 9.98511300e-01, 9.98508608e-01, 9.98511300e-01,\n",
              "        7.25581455e-03, 0.00000000e+00],\n",
              "       [9.98457459e-01, 9.98457459e-01, 9.98457459e-01, 9.98457459e-01,\n",
              "        3.09369091e-02, 0.00000000e+00],\n",
              "       [9.98565141e-01, 9.98565141e-01, 9.98565141e-01, 9.98565141e-01,\n",
              "        3.02281459e-03, 0.00000000e+00],\n",
              "       [9.98565141e-01, 9.98565141e-01, 9.98565141e-01, 9.98565141e-01,\n",
              "        1.41988645e-04, 0.00000000e+00],\n",
              "       [9.98443999e-01, 9.98443999e-01, 9.98443999e-01, 9.98443999e-01,\n",
              "        5.24566741e-03, 0.00000000e+00],\n",
              "       [9.97940587e-01, 9.98002504e-01, 9.97940587e-01, 9.98002504e-01,\n",
              "        1.65535392e-02, 0.00000000e+00],\n",
              "       [9.98322857e-01, 9.98322857e-01, 9.97711763e-01, 9.97711763e-01,\n",
              "        1.63103926e-02, 0.00000000e+00],\n",
              "       [9.98322857e-01, 9.98322857e-01, 9.98322857e-01, 9.98322857e-01,\n",
              "        1.58037337e-05, 0.00000000e+00],\n",
              "       [9.98417078e-01, 9.98417078e-01, 9.97760220e-01, 9.97760220e-01,\n",
              "        1.01239989e-02, 0.00000000e+00],\n",
              "       [9.98347085e-01, 9.98347085e-01, 9.98304012e-01, 9.98304012e-01,\n",
              "        1.30650166e-02, 0.00000000e+00],\n",
              "       [9.98398234e-01, 9.98562449e-01, 9.98398234e-01, 9.98562449e-01,\n",
              "        1.57962110e-02, 0.00000000e+00],\n",
              "       [9.98293244e-01, 9.98562449e-01, 9.98293244e-01, 9.98562449e-01,\n",
              "        2.79280658e-04, 0.00000000e+00],\n",
              "       [9.98478995e-01, 9.98478995e-01, 9.97943279e-01, 9.97943279e-01,\n",
              "        6.00254291e-03, 0.00000000e+00],\n",
              "       [9.98155950e-01, 9.98155950e-01, 9.98155950e-01, 9.98155950e-01,\n",
              "        4.74112010e-03, 0.00000000e+00],\n",
              "       [9.98559757e-01, 9.98608213e-01, 9.98409002e-01, 9.98608213e-01,\n",
              "        3.64177914e-02, 0.00000000e+00],\n",
              "       [9.98960871e-01, 9.98960871e-01, 9.98691667e-01, 9.98691667e-01,\n",
              "        2.02261472e-02, 0.00000000e+00],\n",
              "       [9.98858573e-01, 9.99197771e-01, 9.98858573e-01, 9.98928567e-01,\n",
              "        3.38428002e-02, 0.00000000e+00],\n",
              "       [9.98928567e-01, 9.99178927e-01, 9.98928567e-01, 9.98966255e-01,\n",
              "        4.70619610e-02, 0.00000000e+00],\n",
              "       [9.98966255e-01, 9.98966255e-01, 9.98398234e-01, 9.98398234e-01,\n",
              "        3.94217665e-03, 0.00000000e+00],\n",
              "       [9.98828961e-01, 9.98828961e-01, 9.98828961e-01, 9.98828961e-01,\n",
              "        3.08976181e-03, 0.00000000e+00],\n",
              "       [9.98621674e-01, 9.98643210e-01, 9.98621674e-01, 9.98643210e-01,\n",
              "        2.38728988e-04, 0.00000000e+00],\n",
              "       [9.98559757e-01, 9.98559757e-01, 9.98368622e-01, 9.98368622e-01,\n",
              "        9.22274921e-04, 0.00000000e+00],\n",
              "       [9.98559757e-01, 9.98966255e-01, 9.98368622e-01, 9.98368622e-01,\n",
              "        8.55358436e-03, 0.00000000e+00],\n",
              "       [9.98966255e-01, 9.98966255e-01, 9.98524760e-01, 9.98524760e-01,\n",
              "        7.56376365e-03, 0.00000000e+00],\n",
              "       [9.98966255e-01, 9.98966255e-01, 9.98966255e-01, 9.98966255e-01,\n",
              "        2.76668063e-04, 0.00000000e+00],\n",
              "       [9.98966255e-01, 9.99213923e-01, 9.98966255e-01, 9.99213923e-01,\n",
              "        4.45366393e-03, 0.00000000e+00],\n",
              "       [9.99510048e-01, 9.99510048e-01, 9.99370062e-01, 9.99370062e-01,\n",
              "        4.13998432e-03, 0.00000000e+00],\n",
              "       [9.99367370e-01, 9.99370062e-01, 9.99367370e-01, 9.99370062e-01,\n",
              "        1.65794489e-03, 0.00000000e+00],\n",
              "       [9.99370062e-01, 9.99370062e-01, 9.99370062e-01, 9.99370062e-01,\n",
              "        3.67470636e-03, 0.00000000e+00],\n",
              "       [9.99370062e-01, 9.99370062e-01, 9.99370062e-01, 9.99370062e-01,\n",
              "        1.44607474e-03, 0.00000000e+00],\n",
              "       [9.99370062e-01, 9.99787329e-01, 9.99370062e-01, 9.99787329e-01,\n",
              "        4.87471696e-02, 0.00000000e+00],\n",
              "       [9.99485820e-01, 9.99485820e-01, 9.99485820e-01, 9.99485820e-01,\n",
              "        3.95093342e-04, 0.00000000e+00],\n",
              "       [9.99722720e-01, 9.99722720e-01, 9.99359294e-01, 9.99388906e-01,\n",
              "        2.59588968e-03, 0.00000000e+00],\n",
              "       [9.99388906e-01, 9.99623114e-01, 9.99388906e-01, 9.99623114e-01,\n",
              "        5.12007008e-02, 0.00000000e+00],\n",
              "       [9.99623114e-01, 9.99835785e-01, 9.99623114e-01, 9.99835785e-01,\n",
              "        1.61625310e-01, 0.00000000e+00],\n",
              "       [9.99825017e-01, 9.99825017e-01, 9.99825017e-01, 9.99825017e-01,\n",
              "        2.41547742e-04, 0.00000000e+00],\n",
              "       [9.99835785e-01, 1.00144024e+00, 9.99582733e-01, 1.00000000e+00,\n",
              "        1.00000000e+00, 0.00000000e+00]])"
            ]
          },
          "metadata": {
            "tags": []
          },
          "execution_count": 18
        }
      ]
    },
    {
      "metadata": {
        "id": "6CmFqRfHsTZV",
        "colab_type": "text"
      },
      "cell_type": "markdown",
      "source": [
        "The predict method requires 3 dimentional array. The sample is a 2 dimentional array, thus I put [] around the sample when I am passing it to predict method."
      ]
    },
    {
      "metadata": {
        "id": "Fs-Ne3_MlssM",
        "colab_type": "code",
        "colab": {}
      },
      "cell_type": "code",
      "source": [
        "prediction=model.predict(np.array([sample]))[0][0]"
      ],
      "execution_count": 0,
      "outputs": []
    },
    {
      "metadata": {
        "id": "ScnEXMnmrGiz",
        "colab_type": "code",
        "colab": {
          "base_uri": "https://localhost:8080/",
          "height": 34
        },
        "outputId": "a4288068-a9af-44cf-a83f-fac9f6fb3fc8"
      },
      "cell_type": "code",
      "source": [
        "if (prediction<0.5):\n",
        "  print(\"Bitcoin is going DOWN!\")\n",
        "else:\n",
        "  print(\"Bitcoin is going UP!\")\n",
        "  "
      ],
      "execution_count": 36,
      "outputs": [
        {
          "output_type": "stream",
          "text": [
            "Bitcoin is going DOWN!\n"
          ],
          "name": "stdout"
        }
      ]
    },
    {
      "metadata": {
        "id": "W6cdYf_J-ZBx",
        "colab_type": "code",
        "colab": {}
      },
      "cell_type": "code",
      "source": [
        ""
      ],
      "execution_count": 0,
      "outputs": []
    },
    {
      "metadata": {
        "id": "F5U02K75-ZKS",
        "colab_type": "code",
        "colab": {}
      },
      "cell_type": "code",
      "source": [
        ""
      ],
      "execution_count": 0,
      "outputs": []
    },
    {
      "metadata": {
        "id": "EzGbTwD8-ZSj",
        "colab_type": "code",
        "colab": {}
      },
      "cell_type": "code",
      "source": [
        ""
      ],
      "execution_count": 0,
      "outputs": []
    },
    {
      "metadata": {
        "id": "_LfwOetY-ZV_",
        "colab_type": "code",
        "colab": {}
      },
      "cell_type": "code",
      "source": [
        ""
      ],
      "execution_count": 0,
      "outputs": []
    },
    {
      "metadata": {
        "id": "XSkTY5Sb-ZQF",
        "colab_type": "code",
        "colab": {}
      },
      "cell_type": "code",
      "source": [
        ""
      ],
      "execution_count": 0,
      "outputs": []
    },
    {
      "metadata": {
        "id": "pq0kURQ9-ZNi",
        "colab_type": "code",
        "colab": {}
      },
      "cell_type": "code",
      "source": [
        ""
      ],
      "execution_count": 0,
      "outputs": []
    },
    {
      "metadata": {
        "id": "mBwhrzFd-ZHy",
        "colab_type": "code",
        "colab": {}
      },
      "cell_type": "code",
      "source": [
        ""
      ],
      "execution_count": 0,
      "outputs": []
    },
    {
      "metadata": {
        "id": "_eP3PR6G-ZFL",
        "colab_type": "code",
        "colab": {}
      },
      "cell_type": "code",
      "source": [
        ""
      ],
      "execution_count": 0,
      "outputs": []
    },
    {
      "metadata": {
        "scrolled": false,
        "id": "FFN3eD_PBliq",
        "colab_type": "code",
        "colab": {}
      },
      "cell_type": "code",
      "source": [
        ""
      ],
      "execution_count": 0,
      "outputs": []
    }
  ]
}